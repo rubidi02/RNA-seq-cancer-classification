{
 "cells": [
  {
   "attachments": {},
   "cell_type": "markdown",
   "id": "47d528b1",
   "metadata": {},
   "source": [
    "# TCGA dataset + XGBoost\n",
    "\n",
    "The data is downloaded from TCGA database (https://portal.gdc.cancer.gov/) in a separate iPython notebook and available in cached pickled files."
   ]
  },
  {
   "cell_type": "code",
   "execution_count": 1,
   "id": "35d5f3a9",
   "metadata": {
    "scrolled": true
   },
   "outputs": [],
   "source": [
    "import os\n",
    "import pandas as pd\n",
    "import pickle\n",
    "import numpy as np\n",
    "import matplotlib.pyplot as plt\n",
    "import seaborn as sns\n",
    "from sklearn.metrics import precision_score, recall_score, f1_score\n",
    "\n",
    "# percentage of the dataset copy to drop out by setting it to zero\n",
    "# also determines some of the file names, primarily model to use\n",
    "AUGMENTATION = 0\n",
    "\n",
    "# Specify the path to the parent directory containing the folders to iterate through\n",
    "parent_dir = \"../data/data-tcga/samples\"\n",
    "sample_sheet_file = \"../data/data-tcga/gdc_sample_sheet.2023-05-20.tsv\"\n",
    "clinical_file = \"../data/data-tcga/clinical.tsv\"\n",
    "\n",
    "all_data_final_file_path = \"all_data_final.pkl\"\n",
    "all_data_columns_file_path = \"all_data_columns.pkl\"\n",
    "ignored_tissues_file_path = \"ignored_tissues_list.pkl\"\n",
    "encoder_file = f\"encoder_{AUGMENTATION}.pkl\"\n",
    "model_file_name = f\"xgboost-{AUGMENTATION}.model\""
   ]
  },
  {
   "attachments": {},
   "cell_type": "markdown",
   "id": "0ecb459e",
   "metadata": {},
   "source": [
    "After loading a single dataframe created as a result of running data_exploratory_analysis.ipynb, we separate the last column containing labels."
   ]
  },
  {
   "cell_type": "code",
   "execution_count": 2,
   "id": "e5c46f1b",
   "metadata": {},
   "outputs": [
    {
     "name": "stdout",
     "output_type": "stream",
     "text": [
      "(8668,)\n",
      "(8668, 59427)\n"
     ]
    }
   ],
   "source": [
    "# load the cached data\n",
    "with open(all_data_final_file_path, 'rb') as all_data_pckl:\n",
    "    all_data = pickle.load(all_data_pckl)\n",
    "\n",
    "# take the last column of loaded data as labels    \n",
    "all_labels = all_data[all_data.columns[-1]]\n",
    "# remove the last column from the data, since it contains labels\n",
    "all_data = all_data.iloc[:, :-1]\n",
    "\n",
    "print(all_labels.shape)\n",
    "print(all_data.shape)"
   ]
  },
  {
   "attachments": {},
   "cell_type": "markdown",
   "id": "05bec991",
   "metadata": {},
   "source": [
    "# Data preparation\n",
    "\n",
    "After confirming our 8668 samples are loaded  with all 59427 features, we can proceed with preparing the data for training our cancer classification model.\n",
    "\n",
    "We will use XGBoost, the state of the art model for tabular data modeling."
   ]
  },
  {
   "cell_type": "code",
   "execution_count": 3,
   "id": "07bd8563",
   "metadata": {},
   "outputs": [],
   "source": [
    "import pandas as pd\n",
    "import numpy as np\n",
    "import pickle\n",
    "import xgboost as xgb\n",
    "import sklearn\n",
    "from sklearn.preprocessing import LabelEncoder\n",
    "from sklearn.model_selection import train_test_split\n",
    "from sklearn.metrics import accuracy_score"
   ]
  },
  {
   "attachments": {},
   "cell_type": "markdown",
   "id": "6c70a5a7",
   "metadata": {},
   "source": [
    "## Data augmentation\n",
    "\n",
    "We will apply drop augmentation to the gene expression data before training. First, we'll make a duplicate of the complete input dataframe and then zero-out a certain portion of the cells accross the whole matrix randomly.\n",
    "\n",
    "To do that, we'll create the mask matrix with the same shape as the original DataFrame, fill it with random values from nuniform distribution and then set all values smaller than our threshold AUGMENTATION / 100.0 to zero, and the rest of the entries to one. We will multiply that mask with the copy of our input dataframe, leaving values unchanged wherever mask value was 1 and dropping them out wherever mask was 0.\n",
    "\n",
    "We will make sure to set a fixed seed for random number generator to ensure reproducibility between runs."
   ]
  },
  {
   "cell_type": "code",
   "execution_count": 4,
   "id": "dc085767",
   "metadata": {},
   "outputs": [
    {
     "name": "stdout",
     "output_type": "stream",
     "text": [
      "Shape of all_data_augmented dataset:  (8668, 59427)\n",
      "Shape of all_labels_augmented dataset:  (8668,)\n"
     ]
    }
   ],
   "source": [
    "# Data augmentation\n",
    "\n",
    "random_percentage = AUGMENTATION / 100.0\n",
    "\n",
    "all_data_augmented = all_data\n",
    "all_labels_augmented = all_labels\n",
    "del all_labels\n",
    "\n",
    "if random_percentage != 0:\n",
    "    \n",
    "    # set the seed for reproducibility\n",
    "    np.random.seed(42)\n",
    "\n",
    "    # mask is multiplicative:\n",
    "    #   - wherever there is 1 the original number doesn't change\n",
    "    #   - wherever there is 0 the original number is \"deleted\" by being set to zero\n",
    "    \n",
    "    # copy all_data dataset\n",
    "    all_data_copy = all_data.copy()\n",
    "    \n",
    "    zero_out_mask = np.random.rand(all_data_copy.shape[0], all_data_copy.shape[1])\n",
    "    zero_out_mask[ zero_out_mask > random_percentage ] = 1\n",
    "    zero_out_mask[ zero_out_mask <= random_percentage ] = 0\n",
    "    all_data_copy = all_data_copy * zero_out_mask\n",
    "    del zero_out_mask\n",
    "\n",
    "    all_data_augmented = pd.concat([all_data, all_data_copy], axis = 0)\n",
    "    all_labels_augmented = pd.concat([all_labels_augmented, all_labels_augmented], axis = 0)\n",
    "\n",
    "    # save memory \n",
    "    del all_data_copy\n",
    "\n",
    "print(\"Shape of all_data_augmented dataset: \", all_data_augmented.shape)\n",
    "print(\"Shape of all_labels_augmented dataset: \", all_labels_augmented.shape)\n",
    "\n",
    "# save memory\n",
    "del all_data"
   ]
  },
  {
   "attachments": {},
   "cell_type": "markdown",
   "id": "b304cdc6",
   "metadata": {},
   "source": [
    "Our sample count has doubled, as expected. This should contribute to higher accuracy, less overfitting and in general more robust model."
   ]
  },
  {
   "attachments": {},
   "cell_type": "markdown",
   "id": "79dda4ad",
   "metadata": {},
   "source": [
    "# Training XGBoost Model\n",
    "\n",
    "First, we need to encode our list of string cancer type labels to categorical column using LabelEncoder.\n",
    "\n",
    "After that we are ready to split our data into train and validation split. We do this to ensure our model is not overfitting by not showing it all of the data, which allows us to objectively verify did it learn a general rule (a model) of the data distribution OR it simply memorized the training dataset (it overfitted)."
   ]
  },
  {
   "cell_type": "code",
   "execution_count": 5,
   "id": "47799d0d",
   "metadata": {},
   "outputs": [
    {
     "name": "stdout",
     "output_type": "stream",
     "text": [
      "Loading a trained model from cache, skipping the training...\n",
      "Done.\n"
     ]
    }
   ],
   "source": [
    "# convert list of string labels to integer encoded grountruth labels to be used in the training\n",
    "label_encoder = LabelEncoder()\n",
    "all_labels_encoded = label_encoder.fit_transform(all_labels_augmented.to_list())\n",
    "del all_labels_augmented\n",
    "\n",
    "#saving the label encoder for later use\n",
    "with open(encoder_file, 'wb') as f:\n",
    "    pickle.dump(label_encoder, f)\n",
    "\n",
    "# Split dataset into training and validation sets\n",
    "all_data_train, all_data_validation, all_labels_encoded_train, all_labels_encoded_validation = \\\n",
    "    train_test_split(all_data_augmented, all_labels_encoded, test_size=0.2, random_state=42)\n",
    "\n",
    "del all_data_augmented\n",
    "del all_labels_encoded\n",
    "\n",
    "if not os.path.exists(model_file_name):\n",
    "    print(\"Training the model...\")\n",
    "    model_train : xgb.XGBClassifier = xgb.XGBClassifier()\n",
    "    model_train.fit(all_data_train, all_labels_encoded_train)\n",
    "\n",
    "    #saving the model for later use\n",
    "    with open(model_file_name, 'wb') as file_model:\n",
    "        pickle.dump(model_train, file_model)\n",
    "else:\n",
    "    print(\"Loading a trained model from cache, skipping the training...\")\n",
    "    with open(model_file_name, 'rb') as f:\n",
    "        model_train = pickle.load(f)\n",
    "\n",
    "print(\"Done.\")"
   ]
  },
  {
   "attachments": {},
   "cell_type": "markdown",
   "id": "84679ca8",
   "metadata": {},
   "source": [
    "# Model evaluation\n",
    "\n",
    "Once our model is trained we will compute the accuracy of predicting train data and validation data. Train prediction accuracy is expected to be high since that's the data model was trying to optimize the predictions for. What will be the most interesting is to see the test accuracy, since that's the objective indicator of the model's generalization. We will also calculate precision, recall and F1 score.\n",
    "\n",
    "Apart from that, we will compute the confusion matrix to show us how well the model is able to predict each individual class."
   ]
  },
  {
   "cell_type": "code",
   "execution_count": 6,
   "id": "ebad3473",
   "metadata": {},
   "outputs": [
    {
     "name": "stdout",
     "output_type": "stream",
     "text": [
      "Verifying accuracy...\n",
      "Accuracy of the train: 100.0000%\n",
      "Accuracy of the validation: 99.3080%\n",
      "Precision: 0.9902\n",
      "Recall: 0.9902\n",
      "F1 Score: 0.9902\n"
     ]
    },
    {
     "data": {
      "image/png": "[encoded data removed]",
      "text/plain": [
       "<Figure size 800x600 with 2 Axes>"
      ]
     },
     "metadata": {},
     "output_type": "display_data"
    }
   ],
   "source": [
    "print(\"Verifying accuracy...\")\n",
    "\n",
    "# predict the output of the train dataset\n",
    "pred_train = model_train.predict(all_data_train)\n",
    "accuracy = accuracy_score(pred_train, all_labels_encoded_train)\n",
    "print(\"Accuracy of the train: %.4f%%\" % (accuracy * 100.0))\n",
    "\n",
    "# predict the output of the validation dataset\n",
    "pred_validation = model_train.predict(all_data_validation)\n",
    "accuracy = accuracy_score(pred_validation, all_labels_encoded_validation)\n",
    "print(\"Accuracy of the validation: %.4f%%\" % (accuracy * 100.0))\n",
    "\n",
    "# Calculate precision, recall and F1 score\n",
    "precision = precision_score(all_labels_encoded_validation, pred_validation, average='macro')\n",
    "recall = recall_score(all_labels_encoded_validation, pred_validation, average='macro')\n",
    "f1 = f1_score(all_labels_encoded_validation, pred_validation, average='macro')\n",
    "\n",
    "# Print the results\n",
    "print(\"Precision: {:.4f}\".format(precision))\n",
    "print(\"Recall: {:.4f}\".format(recall))\n",
    "print(\"F1 Score: {:.4f}\".format(f1))\n",
    "\n",
    "# calculate the confusion matrix\n",
    "confusion = sklearn.metrics.confusion_matrix(all_labels_encoded_validation, pred_validation)\n",
    "\n",
    "# plot the confusion matrix\n",
    "plt.figure(figsize=(8, 6))\n",
    "sns.heatmap(confusion, annot=True, fmt=\"d\", cmap=\"Greens\",\n",
    "            xticklabels=label_encoder.classes_, yticklabels=label_encoder.classes_)\n",
    "plt.title(\"Confusion Matrix\")\n",
    "plt.xlabel(\"Predicted Label\")\n",
    "plt.ylabel(\"True Label\")\n",
    "plt.show()"
   ]
  },
  {
   "attachments": {},
   "cell_type": "markdown",
   "id": "05d67730",
   "metadata": {},
   "source": [
    "# Conclusion\n",
    "\n",
    "We can see that the model generalized pretty well on the validation data from TCGA: perfect classification accuracy on training splot and almost perfect (99.3%) on validation split.\n",
    "\n",
    "F1 score of 0.9902 also tells us the model performs well, as well as clean conusion matrix having almost all detections on the main diagonal.\n",
    "\n",
    "Another model can be trained by changing the value of AUGMENTATION parameter in the code block at the beginning and re-running the whole notebook.\n",
    "\n",
    "The next step is verifying how the model performs on the external validation dataset from another database, i.e. GEO."
   ]
  }
 ],
 "metadata": {
  "kernelspec": {
   "display_name": "Python 3 (ipykernel)",
   "language": "python",
   "name": "python3"
  },
  "language_info": {
   "codemirror_mode": {
    "name": "ipython",
    "version": 3
   },
   "file_extension": ".py",
   "mimetype": "text/x-python",
   "name": "python",
   "nbconvert_exporter": "python",
   "pygments_lexer": "ipython3",
   "version": "3.10.10"
  }
 },
 "nbformat": 4,
 "nbformat_minor": 5
}
