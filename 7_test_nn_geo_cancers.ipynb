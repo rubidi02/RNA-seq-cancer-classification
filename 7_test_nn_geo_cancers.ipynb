{
 "cells": [
  {
   "cell_type": "code",
   "execution_count": null,
   "metadata": {},
   "outputs": [
    {
     "name": "stdout",
     "output_type": "stream",
     "text": [
      "       Sample ID   Tissue\n",
      "0     GSM5585901  adrenal\n",
      "1     GSM5585902  bladder\n",
      "2     GSM5585903  bladder\n",
      "3     GSM5585904  bladder\n",
      "4     GSM5585905  bladder\n",
      "...          ...      ...\n",
      "1055  GSM5586956  abdomen\n",
      "1056  GSM5586957  abdomen\n",
      "1057  GSM5586958   stroma\n",
      "1058  GSM5586959     live\n",
      "1059  GSM5586960      arm\n",
      "\n",
      "[1060 rows x 2 columns]\n",
      "       Tissue\n",
      "0     adrenal\n",
      "1     bladder\n",
      "2     bladder\n",
      "3     bladder\n",
      "4     bladder\n",
      "...       ...\n",
      "1055  abdomen\n",
      "1056  abdomen\n",
      "1057   stroma\n",
      "1058     live\n",
      "1059      arm\n",
      "\n",
      "[1060 rows x 1 columns]\n"
     ]
    }
   ],
   "source": [
    "import pandas as pd\n",
    "import numpy as np\n",
    "import os\n",
    "from mygene import MyGeneInfo\n",
    "from concurrent.futures import ThreadPoolExecutor\n",
    "from pyensembl import EnsemblRelease\n",
    "from sklearn.metrics import accuracy_score\n",
    "import time\n",
    "import pickle\n",
    "import sklearn\n",
    "import matplotlib.pyplot as plt\n",
    "import seaborn as sns\n",
    "\n",
    "import tensorflow as tf\n",
    "tf.random.set_seed(42)\n",
    "\n",
    "\n",
    "AUGMENTATION = 0\n",
    "# CANCER_TYPE = \"brain\"\n",
    "\n",
    "# Specify the path to the parent directory containing the folders to iterate through\n",
    "# data_geo_file_path = f\"data_geo_{CANCER_TYPE}_{AUGMENTATION}.pkl\"\n",
    "all_data_columns_file_path = \"./all_data_columns.pkl\"\n",
    "encoder_file = f\"./encoder_{AUGMENTATION}.pkl\"\n",
    "model_file_name = f\"nn-{AUGMENTATION}.model\""
   ]
  },
  {
   "cell_type": "code",
   "execution_count": 4,
   "metadata": {},
   "outputs": [
    {
     "name": "stdout",
     "output_type": "stream",
     "text": [
      "['bladder' 'brain' 'breast' 'colon' 'kidney' 'liver' 'lung' 'pancreas'\n",
      " 'prostate' 'skin']\n",
      "Label counts:\n",
      "Tissue\n",
      "kidney      224\n",
      "lung        112\n",
      "skin         93\n",
      "bladder      58\n",
      "liver        28\n",
      "brain        18\n",
      "pancreas      7\n",
      "Name: count, dtype: int64\n",
      "             Tissue\n",
      "GSM5585902  bladder\n",
      "GSM5585903  bladder\n",
      "GSM5585904  bladder\n",
      "GSM5585905  bladder\n",
      "GSM5585906  bladder\n",
      "...             ...\n",
      "GSM5586912    brain\n",
      "GSM5586935    liver\n",
      "GSM5586936    liver\n",
      "GSM5586937    liver\n",
      "GSM5586938    liver\n",
      "\n",
      "[540 rows x 1 columns]\n",
      "Symbol      DDX11L1   WASH7P  MIR6859-1  MIR1302-2HG  MIR1302-2  FAM138A   \n",
      "GSM5585902   0.0000  14.2900      0.000       0.0000        0.0   0.0000  \\\n",
      "GSM5585903   0.0000   0.7974      0.000       0.0000        0.0   0.0000   \n",
      "GSM5585904   0.7844   5.9090      0.000       0.0000        0.0   0.0000   \n",
      "GSM5585905   0.5263  24.8200     10.660       0.0000        0.0   0.0000   \n",
      "GSM5585906   0.0434  19.9400     24.250       0.1333        0.0   0.0000   \n",
      "...             ...      ...        ...          ...        ...      ...   \n",
      "GSM5586912   0.4707  15.2100     10.290       0.0000        0.0   0.2064   \n",
      "GSM5586935   0.2836  28.8600     36.740       0.0000        0.0   0.0000   \n",
      "GSM5586936   0.3865  15.0400      7.825       0.0000        0.0   0.0000   \n",
      "GSM5586937   0.3919  36.3800     28.570       0.0000        0.0   0.4584   \n",
      "GSM5586938   0.0000  12.6300     55.880       0.0000        0.0   0.0000   \n",
      "\n",
      "Symbol      OR4F5  LOC100996442  LOC729737  DDX11L17  ...      ND4    TRNH   \n",
      "GSM5585902    0.0        6.0240     19.650   0.00000  ...  38780.0   67.55  \\\n",
      "GSM5585903    0.0        6.2180      3.276   0.00000  ...  24630.0   75.94   \n",
      "GSM5585904    0.0        6.3190     11.140   0.64510  ...  42980.0   50.08   \n",
      "GSM5585905    0.0        0.7106      8.789   2.79500  ...  32110.0   52.50   \n",
      "GSM5585906    0.0        3.2670     14.910   0.04462  ...  37360.0  106.00   \n",
      "...           ...           ...        ...       ...  ...      ...     ...   \n",
      "GSM5586912    0.0        4.9730     27.390   0.19350  ...  21200.0  504.80   \n",
      "GSM5586935    0.0        9.2850     63.500   0.68020  ...  17050.0  592.90   \n",
      "GSM5586936    0.0        9.0020     54.260   2.05300  ...  24370.0  596.90   \n",
      "GSM5586937    0.0        3.9690     11.070   0.64470  ...  18830.0  232.70   \n",
      "GSM5586938    0.0        3.0130      3.721   0.09459  ...  19430.0  105.70   \n",
      "\n",
      "Symbol       TRNS2   TRNL2      ND5      ND6    TRNE     CYTB    TRNT    TRNP  \n",
      "GSM5585902   65.18  367.60  14240.0  14550.0   491.5  32590.0   61.80  2142.0  \n",
      "GSM5585903  269.80  451.30   9494.0   9390.0   312.5  16440.0   36.64   637.2  \n",
      "GSM5585904   48.32  317.60  14700.0  16770.0   325.5  41620.0  149.20  2302.0  \n",
      "GSM5585905   14.74   73.48   7960.0   5792.0   772.9  20330.0   32.93  2056.0  \n",
      "GSM5585906   97.23  253.50   9123.0   6524.0   222.4  15750.0  188.00  6561.0  \n",
      "...            ...     ...      ...      ...     ...      ...     ...     ...  \n",
      "GSM5586912  427.00  336.20   5731.0   4295.0   688.5  11380.0  153.20  5054.0  \n",
      "GSM5586935  473.70  457.40   7525.0   7435.0  1025.0   9039.0  108.80  2374.0  \n",
      "GSM5586936  478.00  520.10  10360.0   8932.0   933.1  12930.0  129.00  3075.0  \n",
      "GSM5586937   76.82  120.40   9032.0   7723.0   715.0  12540.0  200.10  3626.0  \n",
      "GSM5586938   74.72  111.30   6668.0   4584.0   645.5  13480.0   55.28  1285.0  \n",
      "\n",
      "[540 rows x 39376 columns]\n",
      "Total geo columns: 39376\n",
      "Unique geo columns: 39374\n",
      "Total geo columns: 39374\n",
      "Unique geo columns: 39374\n"
     ]
    }
   ],
   "source": [
    "# load label encoder from pickle file\n",
    "with open(encoder_file, 'rb') as f:\n",
    "    label_encoder = pickle.load(f)\n",
    "class_list = label_encoder.classes_\n",
    "print(class_list)\n",
    "\n",
    "to_remove = samples_labels_2[\"Tissue\"].map(lambda x: x in class_list)\n",
    "labels_geo = samples_labels_2.loc[to_remove]\n",
    "tpm_geo = df_geo_cancers.loc[to_remove]\n",
    "\n",
    "# Get the count of samples for each unique label\n",
    "label_counts = labels_geo[\"Tissue\"].value_counts()\n",
    "\n",
    "# Print the count of samples for each unique label\n",
    "print(\"Label counts:\")\n",
    "print(label_counts)\n",
    "\n",
    "print(labels_geo)\n",
    "print(tpm_geo)\n",
    "\n",
    "print(f'Total geo columns: {len(tpm_geo.columns)}')\n",
    "print(f'Unique geo columns: {len(set(tpm_geo.columns))}')\n",
    "\n",
    "# merging the columns with the same symbol name\n",
    "data_geo = tpm_geo.groupby(tpm_geo.columns, axis=1).sum()\n",
    "print(f'Total geo columns: {len(data_geo.columns)}')\n",
    "\n",
    "unique_columns = len(set(data_geo.columns))\n",
    "print(f'Unique geo columns: {unique_columns}')"
   ]
  },
  {
   "cell_type": "code",
   "execution_count": 5,
   "metadata": {},
   "outputs": [],
   "source": [
    "#open the list of genes from tcga\n",
    "with open(all_data_columns_file_path, 'rb') as all_data_columns_pckl:\n",
    "    all_data_columns = pickle.load(all_data_columns_pckl)"
   ]
  },
  {
   "cell_type": "code",
   "execution_count": 6,
   "metadata": {},
   "outputs": [
    {
     "name": "stdout",
     "output_type": "stream",
     "text": [
      "length data_geo.columns:  39374\n",
      "length all_data_columns:  59427\n",
      "length columns_to_drop:  12302\n",
      "data_geo_filtered shape:  (540, 27072)\n",
      "data_geo_test shape:  (540, 59427)\n"
     ]
    }
   ],
   "source": [
    "print(\"length data_geo.columns: \", len(data_geo.columns))\n",
    "print(\"length all_data_columns: \", len(all_data_columns))\n",
    "\n",
    "# Delete all columns from data_geo dataframe that are not present in all_data_columns list\n",
    "columns_to_drop = [col for col in data_geo.columns if col not in all_data_columns]\n",
    "print(\"length columns_to_drop: \", len(columns_to_drop))\n",
    "\n",
    "data_geo_filtered = data_geo.drop(columns=columns_to_drop)\n",
    "print(\"data_geo_filtered shape: \" , data_geo_filtered.shape)\n",
    "      \n",
    "# For each column name in all_data_columns list add a column of zeros to data_geo_filtered dataframe \n",
    "# if the column with that name does not exist, otherwise ignore it\n",
    "\n",
    "# Create a DataFrame with zeros for missing columns\n",
    "zeros_df = pd.DataFrame(0, index=data_geo_filtered.index, columns=all_data_columns)\n",
    "\n",
    "# Concatenate data_geo_filtered and zeros_df\n",
    "data_geo_filtered = pd.concat([data_geo_filtered, zeros_df], axis=1)\n",
    "\n",
    "# Remove duplicate columns\n",
    "data_geo_filtered = data_geo_filtered.loc[:, ~data_geo_filtered.columns.duplicated()]\n",
    "\n",
    "\n",
    "# Construct validation dataset with proper column ordering defined in all_data_columns\n",
    "data_geo_test = data_geo_filtered[all_data_columns]\n",
    "print(\"data_geo_test shape: \", data_geo_test.shape)"
   ]
  },
  {
   "attachments": {},
   "cell_type": "markdown",
   "metadata": {},
   "source": [
    "# Validate data geo on trained tcga classifier"
   ]
  },
  {
   "cell_type": "code",
   "execution_count": 7,
   "metadata": {},
   "outputs": [
    {
     "name": "stderr",
     "output_type": "stream",
     "text": [
      "2023-06-17 18:12:41.727776: I tensorflow/compiler/xla/stream_executor/cuda/cuda_gpu_executor.cc:996] successful NUMA node read from SysFS had negative value (-1), but there must be at least one NUMA node, so returning NUMA node zero. See more at https://github.com/torvalds/linux/blob/v6.0/Documentation/ABI/testing/sysfs-bus-pci#L344-L355\n",
      "2023-06-17 18:12:41.751932: I tensorflow/compiler/xla/stream_executor/cuda/cuda_gpu_executor.cc:996] successful NUMA node read from SysFS had negative value (-1), but there must be at least one NUMA node, so returning NUMA node zero. See more at https://github.com/torvalds/linux/blob/v6.0/Documentation/ABI/testing/sysfs-bus-pci#L344-L355\n",
      "2023-06-17 18:12:41.752170: I tensorflow/compiler/xla/stream_executor/cuda/cuda_gpu_executor.cc:996] successful NUMA node read from SysFS had negative value (-1), but there must be at least one NUMA node, so returning NUMA node zero. See more at https://github.com/torvalds/linux/blob/v6.0/Documentation/ABI/testing/sysfs-bus-pci#L344-L355\n",
      "2023-06-17 18:12:41.753250: I tensorflow/compiler/xla/stream_executor/cuda/cuda_gpu_executor.cc:996] successful NUMA node read from SysFS had negative value (-1), but there must be at least one NUMA node, so returning NUMA node zero. See more at https://github.com/torvalds/linux/blob/v6.0/Documentation/ABI/testing/sysfs-bus-pci#L344-L355\n",
      "2023-06-17 18:12:41.753430: I tensorflow/compiler/xla/stream_executor/cuda/cuda_gpu_executor.cc:996] successful NUMA node read from SysFS had negative value (-1), but there must be at least one NUMA node, so returning NUMA node zero. See more at https://github.com/torvalds/linux/blob/v6.0/Documentation/ABI/testing/sysfs-bus-pci#L344-L355\n",
      "2023-06-17 18:12:41.753595: I tensorflow/compiler/xla/stream_executor/cuda/cuda_gpu_executor.cc:996] successful NUMA node read from SysFS had negative value (-1), but there must be at least one NUMA node, so returning NUMA node zero. See more at https://github.com/torvalds/linux/blob/v6.0/Documentation/ABI/testing/sysfs-bus-pci#L344-L355\n",
      "2023-06-17 18:12:42.257366: I tensorflow/compiler/xla/stream_executor/cuda/cuda_gpu_executor.cc:996] successful NUMA node read from SysFS had negative value (-1), but there must be at least one NUMA node, so returning NUMA node zero. See more at https://github.com/torvalds/linux/blob/v6.0/Documentation/ABI/testing/sysfs-bus-pci#L344-L355\n",
      "2023-06-17 18:12:42.257593: I tensorflow/compiler/xla/stream_executor/cuda/cuda_gpu_executor.cc:996] successful NUMA node read from SysFS had negative value (-1), but there must be at least one NUMA node, so returning NUMA node zero. See more at https://github.com/torvalds/linux/blob/v6.0/Documentation/ABI/testing/sysfs-bus-pci#L344-L355\n",
      "2023-06-17 18:12:42.257763: I tensorflow/compiler/xla/stream_executor/cuda/cuda_gpu_executor.cc:996] successful NUMA node read from SysFS had negative value (-1), but there must be at least one NUMA node, so returning NUMA node zero. See more at https://github.com/torvalds/linux/blob/v6.0/Documentation/ABI/testing/sysfs-bus-pci#L344-L355\n",
      "2023-06-17 18:12:42.257894: I tensorflow/core/common_runtime/gpu/gpu_device.cc:1635] Created device /job:localhost/replica:0/task:0/device:GPU:0 with 9399 MB memory:  -> device: 0, name: NVIDIA GeForce RTX 2080 Ti, pci bus id: 0000:26:00.0, compute capability: 7.5\n",
      "WARNING:absl:Skipping variable loading for optimizer 'Adam', because it has 1 variables whereas the saved optimizer has 33 variables. \n"
     ]
    }
   ],
   "source": [
    "# load the nn model\n",
    "with open(model_file_name, 'rb') as f:\n",
    "    model = pickle.load(f)"
   ]
  },
  {
   "cell_type": "code",
   "execution_count": 35,
   "metadata": {},
   "outputs": [
    {
     "name": "stdout",
     "output_type": "stream",
     "text": [
      "           Tissue\n",
      "GSM5586912  brain\n",
      "GSM5586935  liver\n",
      "GSM5586936  liver\n",
      "GSM5586937  liver\n",
      "GSM5586938  liver\n",
      "            SLAIN2  AC108120.2  KIAA0232  SMYD3-IT1  AC009234.1  RNA5SP172   \n",
      "GSM5586912   20.35           0    26.970          0           0          0  \\\n",
      "GSM5586935   20.94           0    17.810          0           0          0   \n",
      "GSM5586936   16.85           0    14.600          0           0          0   \n",
      "GSM5586937   13.86           0    17.740          0           0          0   \n",
      "GSM5586938   45.19           0     7.635          0           0          0   \n",
      "\n",
      "            AC011005.1  AC007099.3   MAST1  AC027796.3  ...  IGHVIII-25-1   \n",
      "GSM5586912           0           0  3.0920           0  ...           0.0  \\\n",
      "GSM5586935           0           0  0.5148           0  ...           0.0   \n",
      "GSM5586936           0           0  0.0000           0  ...           0.0   \n",
      "GSM5586937           0           0  0.0000           0  ...           0.0   \n",
      "GSM5586938           0           0  0.0000           0  ...           0.0   \n",
      "\n",
      "            BX537318.2   IFT74    PLIN1  DNAAF2   CTHRC1  NUP35P1  MAPKAPK5   \n",
      "GSM5586912           0  2.9500  0.10570   7.610   2.9030        0     6.619  \\\n",
      "GSM5586935           0  1.3010  0.05306   5.375   2.6900        0     3.464   \n",
      "GSM5586936           0  0.8866  0.00000   1.544   0.3056        0     1.910   \n",
      "GSM5586937           0  1.6470  0.00000   7.736   0.1859        0     6.598   \n",
      "GSM5586938           0  0.8044  5.63000  10.670  39.6100        0     9.102   \n",
      "\n",
      "            RPS2P15  HNRNPA1P37  \n",
      "GSM5586912        0           0  \n",
      "GSM5586935        0           0  \n",
      "GSM5586936        0           0  \n",
      "GSM5586937        0           0  \n",
      "GSM5586938        0           0  \n",
      "\n",
      "[5 rows x 59427 columns]\n"
     ]
    },
    {
     "name": "stderr",
     "output_type": "stream",
     "text": [
      "/home/rubi/miniconda3/lib/python3.10/site-packages/sklearn/preprocessing/_label.py:134: DataConversionWarning: A column-vector y was passed when a 1d array was expected. Please change the shape of y to (n_samples, ), for example using ravel().\n",
      "  y = column_or_1d(y, dtype=self.classes_.dtype, warn=True)\n"
     ]
    }
   ],
   "source": [
    "# encoding the test data with the same label encoder used in training\n",
    "all_labels_encoded = label_encoder.transform(labels_geo)\n",
    "print(labels_geo.tail(5))\n",
    "# print(all_labels_encoded)\n",
    "\n",
    "# sort the data_geo_test columns\n",
    "# data_geo_test = data_geo_test[all_data_columns]\n",
    "print(data_geo_test.tail(5))"
   ]
  },
  {
   "cell_type": "code",
   "execution_count": 36,
   "metadata": {},
   "outputs": [
    {
     "name": "stdout",
     "output_type": "stream",
     "text": [
      "tf.Tensor(\n",
      "[0 0 0 0 0 0 0 0 0 0 0 0 0 0 0 0 0 0 0 0 0 0 0 0 0 0 0 0 0 0 0 0 0 0 0 0 0\n",
      " 0 0 0 0 0 0 0 0 0 0 0 0 0 0 0 0 0 0 0 0 0 1 1 1 1 5 5 5 5 5 5 5 5 5 5 5 5\n",
      " 5 5 5 5 5 5 5 5 5 5 5 5 4 4 4 4 4 4 4 4 4 4 4 4 4 4 4 4 4 4 4 4 4 4 4 4 4\n",
      " 4 4 4 4 4 4 4 4 4 4 4 4 4 4 4 4 4 4 4 4 4 4 4 4 4 4 4 4 4 4 4 4 4 4 4 4 4\n",
      " 4 4 4 4 4 4 4 4 4 4 4 4 4 4 4 4 4 4 4 4 4 4 4 4 4 4 4 4 4 4 4 4 4 4 4 4 4\n",
      " 4 4 4 4 4 4 4 4 4 4 4 4 4 4 4 4 4 4 4 4 4 4 4 4 4 4 4 4 4 4 4 4 4 4 4 4 4\n",
      " 4 4 4 4 4 4 4 4 4 4 4 4 4 4 4 4 4 4 4 4 4 4 4 4 4 4 4 4 4 4 4 4 4 4 4 4 4\n",
      " 4 4 4 4 4 4 4 4 4 4 4 4 4 4 4 4 4 4 4 4 4 4 4 4 4 4 4 4 4 4 4 4 4 4 4 4 4\n",
      " 4 4 4 4 4 4 4 4 4 4 4 4 4 4 6 6 6 6 6 6 6 6 6 6 6 6 6 6 6 6 6 6 6 6 6 6 6\n",
      " 6 6 6 6 6 6 6 6 6 6 6 6 6 6 6 6 6 6 6 6 6 6 6 6 6 6 6 6 6 6 6 6 6 6 6 6 6\n",
      " 6 6 6 6 6 6 6 6 6 6 6 6 6 6 6 6 6 6 6 6 6 6 6 6 6 6 6 6 6 6 6 6 6 6 6 6 6\n",
      " 6 6 6 6 6 6 6 6 6 6 6 6 6 6 6 9 9 9 9 9 9 9 9 9 9 9 9 9 9 9 9 9 9 9 9 9 9\n",
      " 9 9 9 9 9 9 9 9 9 9 9 9 9 9 9 9 9 9 9 9 9 9 9 9 9 9 9 9 9 9 9 9 9 9 9 9 9\n",
      " 9 9 9 9 9 9 9 9 9 9 9 9 9 9 9 9 9 9 9 9 9 9 9 9 9 9 9 9 9 9 9 9 9 9 7 7 7\n",
      " 7 7 7 7 1 1 1 1 1 1 1 1 1 1 1 1 1 1 5 5 5 5], shape=(540,), dtype=int32)\n",
      "(540, 59427)\n",
      "17/17 [==============================] - 0s 5ms/step\n",
      "[[-0.5005832   2.5645304  -0.25710964 ... -2.232777   -2.048206\n",
      "   2.0466688 ]\n",
      " [ 0.48272103  0.5490904   1.5039346  ...  0.14000209  0.43500012\n",
      "   2.159968  ]\n",
      " [-1.2426587   2.293089   -1.6130613  ... -2.671245   -3.4192686\n",
      "   2.6004338 ]\n",
      " ...\n",
      " [-0.83876705  3.8084762  -1.2532552  ... -2.2984118  -3.6681082\n",
      "  -1.7656808 ]\n",
      " [-0.15574914  4.285589   -1.2424712  ... -1.8328027  -4.700893\n",
      "  -0.6992204 ]\n",
      " [-0.08578037  2.6822016  -0.39835167 ... -4.2357364  -3.8254952\n",
      "   2.0088577 ]]\n",
      "[1 6 9 6 9 1 6 4 1 4 1 6 6 6 1 1 4 4 1 1 6 6 1 6 6 1 1 1 1 9 1 6 6 6 2 4 4\n",
      " 1 4 4 4 4 6 9 4 1 1 6 1 9 4 6 6 6 1 6 4 6 1 4 1 2 4 4 6 7 1 6 1 1 6 1 6 9\n",
      " 4 6 6 9 1 6 6 1 1 6 1 1 6 4 1 6 1 4 9 6 6 4 6 6 6 1 6 6 6 1 6 1 1 1 6 1 1\n",
      " 6 1 1 2 4 6 6 6 6 6 6 4 6 6 1 9 6 6 6 1 6 1 6 1 6 1 4 6 6 9 6 6 6 6 6 4 6\n",
      " 6 1 6 6 6 6 1 1 1 9 6 6 6 9 4 6 9 6 1 1 1 6 1 1 9 1 1 6 4 6 6 4 4 6 1 6 4\n",
      " 1 1 6 6 1 1 1 6 1 1 1 1 1 2 1 1 1 6 6 1 1 6 6 6 6 1 1 1 1 2 1 6 6 6 4 1 6\n",
      " 1 1 1 1 1 6 6 1 4 6 6 6 6 1 1 9 4 6 4 4 4 6 6 6 6 6 1 6 7 1 6 1 1 4 6 1 1\n",
      " 1 1 6 1 6 1 1 1 6 1 2 1 1 6 6 1 6 6 6 6 6 6 6 6 6 6 4 6 6 6 6 1 1 1 6 1 6\n",
      " 2 1 1 1 6 4 6 6 6 6 1 1 1 1 4 4 1 1 1 1 6 1 2 6 1 4 1 8 1 6 4 1 6 1 4 1 1\n",
      " 1 1 1 1 6 4 6 4 4 4 6 1 9 6 1 4 6 0 6 6 6 6 6 6 6 8 1 4 6 1 1 1 1 6 1 9 6\n",
      " 1 4 1 6 6 4 1 6 1 1 1 1 1 4 1 6 6 1 1 1 1 1 1 1 6 1 1 2 1 1 6 1 1 1 4 1 6\n",
      " 1 1 6 1 6 4 1 1 1 6 6 6 4 6 1 6 0 1 4 1 6 1 1 1 1 6 6 1 9 6 1 6 8 4 1 1 1\n",
      " 9 1 1 4 6 6 1 4 6 7 1 6 1 1 1 1 7 4 6 4 1 6 6 1 1 1 1 1 1 4 6 6 4 1 1 1 1\n",
      " 6 1 1 1 4 1 6 6 1 6 4 1 1 4 1 1 1 1 6 1 6 1 4 1 6 1 1 4 4 6 1 1 1 1 2 1 1\n",
      " 1 1 1 1 4 6 6 6 1 1 4 1 1 1 1 1 6 1 1 1 1 6]\n",
      "Accuracy of the test: 12.2222%\n"
     ]
    },
    {
     "data": {
      "image/png": "[encoded data removed]",
      "text/plain": [
       "<Figure size 800x600 with 2 Axes>"
      ]
     },
     "metadata": {},
     "output_type": "display_data"
    }
   ],
   "source": [
    "# Generate confusion matrix\n",
    "from sklearn.metrics import confusion_matrix\n",
    "tf.random.set_seed(42)\n",
    "\n",
    "# Assuming `test_labels` contains the true class labels for the test set\n",
    "test_labels = tf.convert_to_tensor(all_labels_encoded, tf.int32)\n",
    "print(test_labels)\n",
    "\n",
    "# Assuming the model is already trained and stored the predictions in `test_predictions`\n",
    "test_data_evaluated = tf.convert_to_tensor(data_geo_test, tf.float64)\n",
    "print(test_data_evaluated.shape)\n",
    "test_predictions = model.predict(test_data_evaluated)\n",
    "print(test_predictions)\n",
    "test_predictions = np.argmax(test_predictions, axis=1)\n",
    "print(test_predictions)\n",
    "# print(test_predictions)\n",
    "\n",
    "accuracy = sum(test_predictions == all_labels_encoded) / float(len(test_predictions))\n",
    "print(\"Accuracy of the test: %.4f%%\" % (accuracy * 100.0))\n",
    "\n",
    "# Assuming `label_encoder` contains the label encoder used during training\n",
    "label_names = label_encoder.classes_\n",
    "confusion_mat = confusion_matrix(test_labels, test_predictions)\n",
    "\n",
    "# Plotting the confusion matrix\n",
    "plt.figure(figsize=(8, 6))\n",
    "sns.heatmap(confusion_mat, annot=True, fmt=\"d\", cmap=\"Blues\",\n",
    "            xticklabels=label_encoder.classes_, yticklabels=label_encoder.classes_)\n",
    "\n",
    "plt.xlabel(\"Predicted Labels\")\n",
    "plt.ylabel(\"True Labels\")\n",
    "plt.title(\"Confusion Matrix\")\n",
    "plt.show()"
   ]
  },
  {
   "cell_type": "code",
   "execution_count": 10,
   "metadata": {},
   "outputs": [],
   "source": [
    "# print(\"Verifying accuracy...\")\n",
    "# # verify accuracy of the test data\n",
    "# pred_test = model.predict(data_geo_test)\n",
    "\n",
    "# accuracy = sum(pred_test == all_labels_encoded) / float(len(pred_test))\n",
    "\n",
    "# print(\"Accuracy of the test: %.4f%%\" % (accuracy * 100.0))\n",
    "\n",
    "# print(label_encoder.classes_)\n",
    "# confusion = sklearn.metrics.confusion_matrix(all_labels_encoded, pred_test)\n",
    "# print(confusion)\n",
    "\n",
    "# # Plotting the confusion matrix\n",
    "# plt.figure(figsize=(8, 6))\n",
    "# sns.heatmap(confusion, annot=True, fmt=\"d\", cmap=\"Blues\",\n",
    "#             xticklabels=label_encoder.classes_, yticklabels=label_encoder.classes_)\n",
    "\n",
    "# plt.title(\"Confusion Matrix\")\n",
    "# plt.xlabel(\"Predicted Label\")\n",
    "# plt.ylabel(\"True Label\")\n",
    "# plt.show()"
   ]
  },
  {
   "cell_type": "code",
   "execution_count": 27,
   "metadata": {},
   "outputs": [
    {
     "name": "stdout",
     "output_type": "stream",
     "text": [
      "Precision: 0.3104\n",
      "Recall: 0.1330\n",
      "F1 Score: 0.1180\n"
     ]
    },
    {
     "name": "stderr",
     "output_type": "stream",
     "text": [
      "/home/rubi/miniconda3/lib/python3.10/site-packages/sklearn/metrics/_classification.py:1344: UndefinedMetricWarning: Recall is ill-defined and being set to 0.0 in labels with no true samples. Use `zero_division` parameter to control this behavior.\n",
      "  _warn_prf(average, modifier, msg_start, len(result))\n"
     ]
    }
   ],
   "source": [
    "from sklearn.metrics import confusion_matrix\n",
    "from sklearn.metrics import precision_score, recall_score, f1_score\n",
    "\n",
    "# Assuming you have already calculated the confusion matrix\n",
    "confusion = confusion_matrix(all_labels_encoded, test_predictions)\n",
    "\n",
    "# Calculate precision\n",
    "precision = precision_score(all_labels_encoded, test_predictions, average='macro')\n",
    "\n",
    "# Calculate recall\n",
    "recall = recall_score(all_labels_encoded, test_predictions, average='macro')\n",
    "\n",
    "# Calculate F1 score\n",
    "f1 = f1_score(all_labels_encoded, test_predictions, average='macro')\n",
    "\n",
    "# Print the results\n",
    "print(\"Precision: {:.4f}\".format(precision))\n",
    "print(\"Recall: {:.4f}\".format(recall))\n",
    "print(\"F1 Score: {:.4f}\".format(f1))\n"
   ]
  },
  {
   "cell_type": "code",
   "execution_count": null,
   "metadata": {},
   "outputs": [],
   "source": []
  },
  {
   "cell_type": "code",
   "execution_count": null,
   "metadata": {},
   "outputs": [],
   "source": []
  }
 ],
 "metadata": {
  "kernelspec": {
   "display_name": ".venv",
   "language": "python",
   "name": "python3"
  },
  "language_info": {
   "codemirror_mode": {
    "name": "ipython",
    "version": 3
   },
   "file_extension": ".py",
   "mimetype": "text/x-python",
   "name": "python",
   "nbconvert_exporter": "python",
   "pygments_lexer": "ipython3",
   "version": "3.10.10"
  },
  "orig_nbformat": 4
 },
 "nbformat": 4,
 "nbformat_minor": 2
}
