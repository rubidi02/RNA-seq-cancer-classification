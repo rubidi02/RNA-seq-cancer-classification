{
 "cells": [
  {
   "attachments": {},
   "cell_type": "markdown",
   "id": "47d528b1",
   "metadata": {},
   "source": [
    "# TCGA dataset exploratory data analysis\n",
    "\n",
    "The data is downloaded from TCGA database (https://portal.gdc.cancer.gov/)."
   ]
  },
  {
   "cell_type": "code",
   "execution_count": 14,
   "id": "35d5f3a9",
   "metadata": {
    "scrolled": true
   },
   "outputs": [],
   "source": [
    "import os\n",
    "import pandas as pd\n",
    "import pickle\n",
    "import numpy as np\n",
    "import matplotlib.pyplot as plt\n",
    "import seaborn as sns\n",
    "\n",
    "AUGMENTATION = 0\n",
    "\n",
    "# Specify the path to the parent directory containing the folders to iterate through\n",
    "parent_dir = \"../data/data-tcga/samples\"\n",
    "sample_sheet_file = \"../data/data-tcga/gdc_sample_sheet.2023-05-20.tsv\"\n",
    "clinical_file = \"../data/data-tcga/clinical.tsv\"\n",
    "\n",
    "all_data_file_path = \"all_data_geo.pkl\"\n",
    "all_labels_file_path = \"all_labels_geo.pkl\"\n",
    "all_data_columns_file_path = \"all_data_columns.pkl\"\n",
    "ignored_tissues_file_path = \"ignored_tissues_list_geo.pkl\"\n",
    "class_mapping_file_path = \"class_mapping_geo.pkl\"\n",
    "encoder_file = f\"encoder_{AUGMENTATION}.pkl\"\n",
    "model_file_name = f\"nn-{AUGMENTATION}.model\""
   ]
  },
  {
   "cell_type": "code",
   "execution_count": 2,
   "id": "34698e2e",
   "metadata": {},
   "outputs": [],
   "source": [
    "# class mapping\n",
    "class_mapping = {}\n",
    "# ignore unknown tissues\n",
    "ignored_tissues = []\n",
    "\n",
    "# load the files if they exist\n",
    "\n",
    "if os.path.exists(class_mapping_file_path):\n",
    "\n",
    "    # load the list of ignored tissues from a pickel file\n",
    "    with open(ignored_tissues_file_path, 'rb') as f: \n",
    "        ignored_tissues = pickle.load(f)\n",
    "\n",
    "    # load a dataframe with the labels of each sample from a pickel file\n",
    "    with open(class_mapping_file_path, 'rb') as f: \n",
    "        class_mapping = pickle.load(f)"
   ]
  },
  {
   "cell_type": "code",
   "execution_count": 3,
   "id": "e5c46f1b",
   "metadata": {},
   "outputs": [],
   "source": [
    "# verify if the all_data_file_path exist or not\n",
    "if not os.path.exists(all_data_file_path):\n",
    "    \n",
    "    # read sample sheet file and clinical file into the memory\n",
    "    sample_sheet = pd.read_csv(sample_sheet_file, delimiter=\"\\t\")\n",
    "    clinical_sheet = pd.read_csv(clinical_file, delimiter=\"\\t\")\n",
    "    \n",
    "    all_data = []\n",
    "    all_labels = []\n",
    "\n",
    "    # Iterate through all folders in the parent directory\n",
    "    for folder in os.listdir(parent_dir):\n",
    "        # Create the full path to the folder\n",
    "        folder_path = os.path.join(parent_dir, folder)\n",
    "        # Check if the item in the directory is a folder\n",
    "        if os.path.isdir(folder_path):\n",
    "\n",
    "            # try to extract the cancer tissue first, if possible\n",
    "            row = sample_sheet[ sample_sheet['File ID'] == folder ]\n",
    "            \n",
    "            # confirm that there is at most 1 row extracted for the current folder\n",
    "            assert(row.shape[0] < 2)\n",
    "\n",
    "            # access the value stored in Case ID\n",
    "            case_id = row['Case ID'].values[0]\n",
    "\n",
    "            case_id_clinical = clinical_sheet[clinical_sheet['case_submitter_id'] == case_id]\n",
    "            if len(case_id_clinical['tissue_or_organ_of_origin'].values) == 0:\n",
    "                continue\n",
    "\n",
    "            tissue_organ_origin = case_id_clinical['tissue_or_organ_of_origin'].values[0]\n",
    "\n",
    "            # skipping the labels stored in ignored_tissue list:\n",
    "            if tissue_organ_origin in ignored_tissues:\n",
    "                continue\n",
    "\n",
    "            # storing the labels in a dictionary\n",
    "            if tissue_organ_origin not in class_mapping:\n",
    "                new_label = None\n",
    "                # try to find an already seen label in tissue_organ_origin automatically\n",
    "                for label in all_labels:\n",
    "                    # converting label from dataframe to string\n",
    "                    label = label[0][0]\n",
    "                    if label in tissue_organ_origin.lower():\n",
    "                        new_label = label\n",
    "                        break\n",
    "                # manual user input required to determine the label\n",
    "                if new_label is None:\n",
    "                    print(f'New tissue origin found: \\\"{tissue_organ_origin}\\\". \\nEnter the label for it or leave it empty to add it to the ignore list: ')\n",
    "                    new_label = input()\n",
    "\n",
    "                    if new_label == \"\":\n",
    "                        ignored_tissues.append(tissue_organ_origin)\n",
    "                        continue\n",
    "                class_mapping[tissue_organ_origin] = new_label\n",
    "\n",
    "            # tissue extracted successfully!\n",
    "            all_labels.append(pd.DataFrame([class_mapping[tissue_organ_origin]]))\n",
    "\n",
    "\n",
    "            # extract the gene counts\n",
    "\n",
    "            # Get a list of all .tsv files in the folder\n",
    "            tsv_files = [f for f in os.listdir(folder_path) if f.endswith('.tsv')]\n",
    "            # If there is exactly one .tsv file in the folder, proceed\n",
    "            if len(tsv_files) == 1:\n",
    "                # Create the full path to the .tsv file\n",
    "                tsv_path = os.path.join(folder_path, tsv_files[0])\n",
    "                \n",
    "                # Open the .tsv file and count the number of lines starting with \"ENSG\"\n",
    "                columns = []\n",
    "                counts = []\n",
    "                with open(tsv_path, 'r') as tsv_file:\n",
    "                    for line in tsv_file:\n",
    "                        if line.startswith(\"ENSG\"):\n",
    "\n",
    "                            split_line = line.split('\\t')\n",
    "\n",
    "                            gene_name = split_line[1]\n",
    "                            tpm = split_line[6]\n",
    "                            columns.append(gene_name)\n",
    "                            counts.append(tpm)\n",
    "\n",
    "                row_df = pd.DataFrame(counts, dtype=np.float32)\n",
    "                all_data.append(row_df)\n",
    "\n",
    "    print(\"Tissue and counts extracted sucessfully!\")\n",
    "\n",
    "    all_data = pd.concat(all_data, axis=1, ignore_index=True).transpose()\n",
    "    all_data.columns = columns\n",
    "    all_labels = pd.concat(all_labels, axis=0, ignore_index=True)\n",
    "\n",
    "    # store the count matrices and labels into pickle files\n",
    "    with open(all_data_file_path, 'wb') as all_data_pckl:\n",
    "        pickle.dump(all_data, all_data_pckl)\n",
    "    with open(all_labels_file_path, 'wb') as all_labels_pckl:\n",
    "        pickle.dump(all_labels, all_labels_pckl)\n",
    "    \n",
    "\n",
    "else: # .pkl file exists, load everything from it to skip processing\n",
    "\n",
    "    with open(all_data_file_path, 'rb') as all_data_pckl:\n",
    "        all_data = pickle.load(all_data_pckl)\n",
    "    with open(all_labels_file_path, 'rb') as all_labels_pckl:\n",
    "        all_labels = pickle.load(all_labels_pckl)"
   ]
  },
  {
   "cell_type": "code",
   "execution_count": 4,
   "id": "a60c1e96",
   "metadata": {},
   "outputs": [],
   "source": [
    "# save the files if they do not exist\n",
    "if not os.path.exists(class_mapping_file_path):\n",
    "    \n",
    "    # save the list of ignored tissues in a pickel file\n",
    "    with open(ignored_tissues_file_path, 'wb') as f: \n",
    "        pickle.dump(ignored_tissues, f)\n",
    "\n",
    "    # save a dataframe with the labels of each sample in a pickel file\n",
    "    with open(class_mapping_file_path, 'wb') as f: \n",
    "        pickle.dump(class_mapping, f)"
   ]
  },
  {
   "cell_type": "code",
   "execution_count": 5,
   "id": "02113cab",
   "metadata": {},
   "outputs": [
    {
     "name": "stdout",
     "output_type": "stream",
     "text": [
      "all_data_columns:  Index(['TSPAN6', 'TNMD', 'DPM1', 'SCYL3', 'C1orf112', 'FGR', 'CFH', 'FUCA2',\n",
      "       'GCLC', 'NFYA',\n",
      "       ...\n",
      "       'AL451106.1', 'AC092910.4', 'AC073611.1', 'AC136977.1', 'AC078856.1',\n",
      "       'AC008763.4', 'AL592295.6', 'AC006486.3', 'AL391628.1', 'AP006621.6'],\n",
      "      dtype='object', length=60660)\n",
      "Total gene count: 60660\n",
      "Unique gene count: 59427\n"
     ]
    }
   ],
   "source": [
    "# save the all_data columns in a list\n",
    "all_data_columns = all_data.columns\n",
    "print(\"all_data_columns: \", all_data_columns)\n",
    "print(f'Total gene count: {len(all_data_columns)}')\n",
    "unique_columns = list(set(all_data_columns))\n",
    "print(f'Unique gene count: {len(unique_columns)}')\n",
    "\n",
    "# save the columns to use it later to organize the columns of different dataset\n",
    "with open(all_data_columns_file_path, 'wb') as all_data_columns_pckl: \n",
    "    pickle.dump(unique_columns, all_data_columns_pckl)"
   ]
  },
  {
   "attachments": {},
   "cell_type": "markdown",
   "id": "dcf10dbd",
   "metadata": {},
   "source": [
    "The column names are genes as expected, the problem now is that we have duplicated columns and xgboost will complain. The solution will be adding the counts of columns with the same gene name."
   ]
  },
  {
   "cell_type": "code",
   "execution_count": 6,
   "id": "b81dca53",
   "metadata": {},
   "outputs": [
    {
     "name": "stdout",
     "output_type": "stream",
     "text": [
      "Total gene count: 59427\n",
      "Unique gene count: 59427\n"
     ]
    }
   ],
   "source": [
    "all_data_unique = all_data.groupby(all_data.columns, axis=1).sum()\n",
    "print(f'Total gene count: {len(all_data_unique.columns)}')\n",
    "unique_columns = len(set(all_data_unique.columns))\n",
    "print(f'Unique gene count: {unique_columns}')\n",
    "del all_data"
   ]
  },
  {
   "attachments": {},
   "cell_type": "markdown",
   "id": "c0056846",
   "metadata": {},
   "source": [
    "Now we are ready to train, since all columns have a unique name"
   ]
  },
  {
   "attachments": {},
   "cell_type": "markdown",
   "id": "05bec991",
   "metadata": {},
   "source": [
    "**Training xgBoost Model**"
   ]
  },
  {
   "cell_type": "code",
   "execution_count": 7,
   "id": "07bd8563",
   "metadata": {},
   "outputs": [
    {
     "name": "stderr",
     "output_type": "stream",
     "text": [
      "2023-06-17 17:53:06.311257: I tensorflow/core/platform/cpu_feature_guard.cc:182] This TensorFlow binary is optimized to use available CPU instructions in performance-critical operations.\n",
      "To enable the following instructions: AVX2 FMA, in other operations, rebuild TensorFlow with the appropriate compiler flags.\n",
      "2023-06-17 17:53:07.343776: W tensorflow/compiler/tf2tensorrt/utils/py_utils.cc:38] TF-TRT Warning: Could not find TensorRT\n"
     ]
    }
   ],
   "source": [
    "import pandas as pd\n",
    "import numpy as np\n",
    "import pickle\n",
    "import sklearn\n",
    "from sklearn.preprocessing import LabelEncoder\n",
    "from sklearn.model_selection import train_test_split\n",
    "from sklearn.metrics import accuracy_score\n",
    "\n",
    "from dataset import loadDataset, createBatches\n",
    "from model import Model\n",
    "\n",
    "import logging\n",
    "import tensorflow as tf"
   ]
  },
  {
   "cell_type": "code",
   "execution_count": 8,
   "id": "dc085767",
   "metadata": {},
   "outputs": [
    {
     "name": "stdout",
     "output_type": "stream",
     "text": [
      "Shape of all_data_augmented dataset:  (17336, 59427)\n",
      "Shape of all_labels_augmented dataset:  (17336, 1)\n"
     ]
    }
   ],
   "source": [
    "# Data augmentation\n",
    "\n",
    "random_percentage = AUGMENTATION / 100.0\n",
    "\n",
    "all_data_augmented = all_data_unique\n",
    "all_labels_augmented = all_labels \n",
    "\n",
    "if random_percentage != 0:\n",
    "    # set the seed for reproducibility\n",
    "    np.random.seed(42)\n",
    "\n",
    "    # mask is multiplicative:\n",
    "    #   - wherever there is 1 the original number doesn't change\n",
    "    #   - wherever there is 0 the original number is \"deleted\" by being set to zero\n",
    "    \n",
    "    # copy all_data dataset\n",
    "\n",
    "    all_data_copy = all_data_unique.copy()\n",
    "    # print(\"Initial data matrix copy BEFORE augmentation:\")\n",
    "    # print(all_data_copy)\n",
    "    \n",
    "    zero_out_mask = np.random.rand(all_data_copy.shape[0], all_data_copy.shape[1])\n",
    "    # print(\"Original float random mask matrix:\")\n",
    "    # print(zero_out_mask)\n",
    "    zero_out_mask[ zero_out_mask > random_percentage ] = 1\n",
    "    zero_out_mask[ zero_out_mask <= random_percentage ] = 0\n",
    "    # print(\"Final boolean random matrix:\")\n",
    "    # print(zero_out_mask)\n",
    "\n",
    "    all_data_copy = all_data_copy * zero_out_mask\n",
    "    del zero_out_mask\n",
    "    # print(\"Final data matrix copy AFTER augmentation:\")\n",
    "    # print(all_data_copy)\n",
    "\n",
    "    # all_data_augmented = all_data_copy\n",
    "    # all_labels_augmented = all_labels\n",
    "\n",
    "    all_data_augmented = pd.concat([all_data_unique, all_data_copy], axis = 0)\n",
    "    print(\"Shape of all_data_augmented dataset: \", all_data_augmented.shape)\n",
    "\n",
    "    all_labels_augmented = pd.concat([all_labels, all_labels], axis = 0)\n",
    "    print(\"Shape of all_labels_augmented dataset: \", all_labels_augmented.shape)\n",
    "\n",
    "    del all_data_copy\n",
    "    \n"
   ]
  },
  {
   "cell_type": "code",
   "execution_count": 9,
   "id": "13eaf8c0",
   "metadata": {},
   "outputs": [],
   "source": [
    "# Free up memory before training\n",
    "del all_data_unique\n",
    "del all_labels\n",
    "# del clinical_sheet\n",
    "del class_mapping\n",
    "del ignored_tissues"
   ]
  },
  {
   "cell_type": "code",
   "execution_count": 10,
   "id": "3b6b1f7b",
   "metadata": {},
   "outputs": [],
   "source": [
    "label_encoder = LabelEncoder()\n",
    "all_labels_encoded = label_encoder.fit_transform(all_labels_augmented[0].to_list())\n",
    "del all_labels_augmented"
   ]
  },
  {
   "cell_type": "code",
   "execution_count": 11,
   "id": "e4baecf4",
   "metadata": {},
   "outputs": [],
   "source": [
    "# neural network parameters\n",
    "\n",
    "# Percent of samples to be used for validation (Range: 0 - 1)\n",
    "validationSplit = 0.2\n",
    "\n",
    "# A list in which each integer represents the number of nodes in that hidden layer. \n",
    "# Number of hidden layers depends on the number of elements in the list (a larger model \n",
    "# can learn a more complex representation of the training data, thereby possibly \n",
    "# increasing accuracy, but is more prone to overfit and needs longer to train)\n",
    "hiddenLayers = [256, 128]\n",
    "\n",
    "# The learning rate applied to the optimizer (a lower value will make each update \n",
    "# step smaller, which will slow down training, but could increase accuracy)\n",
    "learningRate = 0.01\n",
    "\n",
    "# Number of runs the model will make through the dataset before stopping\n",
    "epochs = 5\n",
    "\n",
    "# Display current metrics every displayStep epochs, \n",
    "# e.g. if 5 the metrics will be displayed on epoch 5, 10, 15...\n",
    "displayStep = 1\n",
    "\n",
    "# Number of samples per batch\n",
    "batchSize = 512\n",
    "\n",
    "# Maximum sample capacity for the shuffling buffer used during training \n",
    "# (a higher value can impove accuracy, but makes the shuffling take more time)\n",
    "bufferSize = 1024\n",
    "\n",
    "# The activation function used in the hidden layers of the prediction network. \n",
    "# Possible functions: \\\"relu\\\" (only positive tensors pass, negative tensors become 0), \n",
    "# \\\"tanh\\\" (tensors get squished between -1 and 1), \\\"sigmoid\\\" (tensors get squished between \n",
    "# 0 and 1), \\\"linear\\\" (no actiavtion, i.e. x = x, hidden layers have no effect with this function)\n",
    "activationFunc = \"tanh\"\n",
    "\n",
    "# Wheather to use batch normalization (batch norm) between the prediction layers. \n",
    "# Batch normalization applies a transformation that maintains the mean output close to 0 \n",
    "# and the output standard deviation close to 1 (depending on the data this could imporve \n",
    "# training performance, make training faster and slightly reduce overfitting)\n",
    "batchNorm = True\n",
    "\n",
    "# The seed that will be used for random processes such as parameter initialization and shuffling \n",
    "# between epochs (this allows for reproducible results by making randomization deterministic)\n",
    "seed = 42\n",
    "\n",
    "# L0 regularization parameter (a higher value can reduce overfitting, \n",
    "# but risks weakening the model)\n",
    "lZeroLambda = 0.2"
   ]
  },
  {
   "cell_type": "code",
   "execution_count": 12,
   "id": "1004e467",
   "metadata": {},
   "outputs": [
    {
     "name": "stderr",
     "output_type": "stream",
     "text": [
      "2023-06-17 17:53:41.451381: I tensorflow/compiler/xla/stream_executor/cuda/cuda_gpu_executor.cc:996] successful NUMA node read from SysFS had negative value (-1), but there must be at least one NUMA node, so returning NUMA node zero. See more at https://github.com/torvalds/linux/blob/v6.0/Documentation/ABI/testing/sysfs-bus-pci#L344-L355\n",
      "2023-06-17 17:53:41.607250: I tensorflow/compiler/xla/stream_executor/cuda/cuda_gpu_executor.cc:996] successful NUMA node read from SysFS had negative value (-1), but there must be at least one NUMA node, so returning NUMA node zero. See more at https://github.com/torvalds/linux/blob/v6.0/Documentation/ABI/testing/sysfs-bus-pci#L344-L355\n",
      "2023-06-17 17:53:41.607513: I tensorflow/compiler/xla/stream_executor/cuda/cuda_gpu_executor.cc:996] successful NUMA node read from SysFS had negative value (-1), but there must be at least one NUMA node, so returning NUMA node zero. See more at https://github.com/torvalds/linux/blob/v6.0/Documentation/ABI/testing/sysfs-bus-pci#L344-L355\n",
      "2023-06-17 17:53:41.619409: I tensorflow/compiler/xla/stream_executor/cuda/cuda_gpu_executor.cc:996] successful NUMA node read from SysFS had negative value (-1), but there must be at least one NUMA node, so returning NUMA node zero. See more at https://github.com/torvalds/linux/blob/v6.0/Documentation/ABI/testing/sysfs-bus-pci#L344-L355\n",
      "2023-06-17 17:53:41.619661: I tensorflow/compiler/xla/stream_executor/cuda/cuda_gpu_executor.cc:996] successful NUMA node read from SysFS had negative value (-1), but there must be at least one NUMA node, so returning NUMA node zero. See more at https://github.com/torvalds/linux/blob/v6.0/Documentation/ABI/testing/sysfs-bus-pci#L344-L355\n",
      "2023-06-17 17:53:41.619842: I tensorflow/compiler/xla/stream_executor/cuda/cuda_gpu_executor.cc:996] successful NUMA node read from SysFS had negative value (-1), but there must be at least one NUMA node, so returning NUMA node zero. See more at https://github.com/torvalds/linux/blob/v6.0/Documentation/ABI/testing/sysfs-bus-pci#L344-L355\n",
      "2023-06-17 17:53:42.644938: I tensorflow/compiler/xla/stream_executor/cuda/cuda_gpu_executor.cc:996] successful NUMA node read from SysFS had negative value (-1), but there must be at least one NUMA node, so returning NUMA node zero. See more at https://github.com/torvalds/linux/blob/v6.0/Documentation/ABI/testing/sysfs-bus-pci#L344-L355\n",
      "2023-06-17 17:53:42.645403: I tensorflow/compiler/xla/stream_executor/cuda/cuda_gpu_executor.cc:996] successful NUMA node read from SysFS had negative value (-1), but there must be at least one NUMA node, so returning NUMA node zero. See more at https://github.com/torvalds/linux/blob/v6.0/Documentation/ABI/testing/sysfs-bus-pci#L344-L355\n",
      "2023-06-17 17:53:42.645601: I tensorflow/compiler/xla/stream_executor/cuda/cuda_gpu_executor.cc:996] successful NUMA node read from SysFS had negative value (-1), but there must be at least one NUMA node, so returning NUMA node zero. See more at https://github.com/torvalds/linux/blob/v6.0/Documentation/ABI/testing/sysfs-bus-pci#L344-L355\n",
      "2023-06-17 17:53:42.646080: I tensorflow/core/common_runtime/gpu/gpu_device.cc:1635] Created device /job:localhost/replica:0/task:0/device:GPU:0 with 9399 MB memory:  -> device: 0, name: NVIDIA GeForce RTX 2080 Ti, pci bus id: 0000:26:00.0, compute capability: 7.5\n"
     ]
    }
   ],
   "source": [
    "# create the TensorFlow dynamic dataset loader\n",
    "def one_hot(x, n_labels):\n",
    "    enc = [0] * n_labels\n",
    "    enc[x] = 1\n",
    "    return enc\n",
    "\n",
    "all_labels_one_hot = [ one_hot(x, len(label_encoder.classes_)) for x in all_labels_encoded ]\n",
    "dataset = loadDataset(all_data_augmented, all_labels_one_hot, label_encoder.classes_)\n",
    "trainData, trainBatches, testData, testBatches = createBatches(\n",
    "    dataset,\n",
    "    all_data_augmented.shape[0],\n",
    "    validationSplit,\n",
    "    bufferSize,\n",
    "    batchSize\n",
    ")\n",
    "num_samples = all_data_augmented.shape[0]\n",
    "num_features = all_data_augmented.shape[1]"
   ]
  },
  {
   "cell_type": "code",
   "execution_count": 13,
   "id": "81fdec2e",
   "metadata": {},
   "outputs": [
    {
     "name": "stdout",
     "output_type": "stream",
     "text": [
      "[PhysicalDevice(name='/physical_device:GPU:0', device_type='GPU')]\n"
     ]
    }
   ],
   "source": [
    "# del all_data_augmented\n",
    "# del all_labels_encoded\n",
    "print(tf.config.list_physical_devices('GPU'))"
   ]
  },
  {
   "cell_type": "code",
   "execution_count": 14,
   "id": "47799d0d",
   "metadata": {},
   "outputs": [
    {
     "name": "stderr",
     "output_type": "stream",
     "text": [
      "2023-06-17 17:31:58.423955: I tensorflow/core/common_runtime/executor.cc:1197] [/device:CPU:0] (DEBUG INFO) Executor start aborting (this does not indicate an error and you can ignore this message): INVALID_ARGUMENT: You must feed a value for placeholder tensor 'Placeholder/_0' with dtype int32\n",
      "\t [[{{node Placeholder/_0}}]]\n",
      "2023-06-17 17:31:58.424264: I tensorflow/core/common_runtime/executor.cc:1197] [/device:CPU:0] (DEBUG INFO) Executor start aborting (this does not indicate an error and you can ignore this message): INVALID_ARGUMENT: You must feed a value for placeholder tensor 'Placeholder/_0' with dtype int32\n",
      "\t [[{{node Placeholder/_0}}]]\n",
      "2023-06-17 17:32:05.534797: I tensorflow/compiler/xla/service/service.cc:169] XLA service 0x7f072c5a3f80 initialized for platform CUDA (this does not guarantee that XLA will be used). Devices:\n",
      "2023-06-17 17:32:05.534847: I tensorflow/compiler/xla/service/service.cc:177]   StreamExecutor device (0): NVIDIA GeForce RTX 2080 Ti, Compute Capability 7.5\n",
      "2023-06-17 17:32:05.573815: I tensorflow/compiler/mlir/tensorflow/utils/dump_mlir_util.cc:269] disabling MLIR crash reproducer, set env var `MLIR_CRASH_REPRODUCER_DIRECTORY` to enable.\n",
      "2023-06-17 17:32:05.834988: I tensorflow/compiler/xla/stream_executor/cuda/cuda_dnn.cc:424] Loaded cuDNN version 8600\n",
      "2023-06-17 17:32:06.215776: I ./tensorflow/compiler/jit/device_compiler.h:180] Compiled cluster using XLA!  This line is logged at most once for the lifetime of the process.\n",
      "2023-06-17 17:32:45.300504: I tensorflow/core/common_runtime/executor.cc:1197] [/device:CPU:0] (DEBUG INFO) Executor start aborting (this does not indicate an error and you can ignore this message): INVALID_ARGUMENT: You must feed a value for placeholder tensor 'Placeholder/_0' with dtype int32\n",
      "\t [[{{node Placeholder/_0}}]]\n"
     ]
    },
    {
     "name": "stdout",
     "output_type": "stream",
     "text": [
      ">> [LSPIN] Epoch: 1| Train [loss: 0.6602, acc: 84.17%] - Test [loss: 0.6283, acc: 84.60%]\n",
      ">> [LSPIN] Epoch: 2| Train [loss: 0.4065, acc: 91.70%] - Test [loss: 0.3876, acc: 91.78%]\n",
      ">> [LSPIN] Epoch: 3| Train [loss: 0.3157, acc: 94.60%] - Test [loss: 0.2812, acc: 95.53%]\n",
      ">> [LSPIN] Epoch: 4| Train [loss: 0.3076, acc: 94.44%] - Test [loss: 0.2767, acc: 95.70%]\n",
      ">> [LSPIN] Epoch: 5| Train [loss: 0.2164, acc: 97.10%] - Test [loss: 0.2081, acc: 97.23%]\n",
      "Done.\n"
     ]
    }
   ],
   "source": [
    "modelParams = {\n",
    "    \"input_node\": num_features,\n",
    "    \"hidden_layers_node\": hiddenLayers,\n",
    "    \"output_node\": len(label_encoder.classes_),\n",
    "    \"feature_selection\": True,\n",
    "    \"batch_normalization\": batchNorm,\n",
    "    \"activation_pred\": activationFunc,\n",
    "    \"activation_gating\": \"tanh\",\n",
    "    \"gating_net_hidden_layers_node\": [10],\n",
    "    \"display_step\": displayStep,\n",
    "    \"seed\": seed,\n",
    "    \"lam\": lZeroLambda\n",
    "}\n",
    "\n",
    "# with tf.device('/GPU:0'):\n",
    "model = Model(**modelParams)\n",
    "\n",
    "logging.info(\">> Starting training\")\n",
    "\n",
    "# start = time.time()\n",
    "train_losses, train_accs, val_losses, val_accs = model.train(trainData, testData, trainBatches, testBatches, epochs, learningRate)\n",
    "# trainTime = time.time() - start\n",
    "\n",
    "# yPred, yTest = model.test(testData, testBatches)\n",
    "# zPred, yTrain = model.test(trainData, trainBatches)\n",
    "\n",
    "# accuracy = accuracy_score(yTest, yPred)\n",
    "\n",
    "\n",
    "print(\"Done.\")"
   ]
  },
  {
   "cell_type": "code",
   "execution_count": 15,
   "id": "451be13b",
   "metadata": {},
   "outputs": [],
   "source": [
    "#saving the model for later use\n",
    "with open(model_file_name, 'wb') as file_model:\n",
    "    pickle.dump(model, file_model)"
   ]
  },
  {
   "cell_type": "code",
   "execution_count": 15,
   "id": "ac64e57e",
   "metadata": {},
   "outputs": [
    {
     "name": "stderr",
     "output_type": "stream",
     "text": [
      "WARNING:absl:Skipping variable loading for optimizer 'Adam', because it has 1 variables whereas the saved optimizer has 33 variables. \n"
     ]
    }
   ],
   "source": [
    "#load the model\n",
    "with open(model_file_name, 'rb') as f:\n",
    "    model = pickle.load(f)"
   ]
  },
  {
   "cell_type": "code",
   "execution_count": 17,
   "id": "a44f7db4",
   "metadata": {},
   "outputs": [
    {
     "data": {
      "image/png": "[encoded data removed]",
      "text/plain": [
       "<Figure size 800x600 with 2 Axes>"
      ]
     },
     "metadata": {},
     "output_type": "display_data"
    }
   ],
   "source": [
    "# Create the figure and subplots\n",
    "fig, (ax1, ax2) = plt.subplots(2, 1, figsize=(8, 6))\n",
    "\n",
    "# Plot losses\n",
    "ax1.plot(train_losses, label='Train Loss')\n",
    "ax1.plot(val_losses, label='Validation Loss')\n",
    "ax1.set_xlabel('Epochs')\n",
    "ax1.set_ylabel('Loss')\n",
    "ax1.set_title('Loss Comparison')\n",
    "ax1.legend()\n",
    "\n",
    "# Plot accuracies\n",
    "ax2.plot(train_accs, label='Train Accuracy')\n",
    "ax2.plot(val_accs, label='Validation Accuracy')\n",
    "ax2.set_xlabel('Epochs')\n",
    "ax2.set_ylabel('Accuracy')\n",
    "ax2.set_title('Accuracy Comparison')\n",
    "ax2.legend()\n",
    "\n",
    "# Adjust spacing between subplots\n",
    "plt.subplots_adjust(hspace=0.4)\n",
    "\n",
    "# Display the figure\n",
    "plt.show()"
   ]
  },
  {
   "cell_type": "code",
   "execution_count": 16,
   "id": "a0ef7a1b",
   "metadata": {},
   "outputs": [
    {
     "name": "stderr",
     "output_type": "stream",
     "text": [
      "2023-06-17 17:54:08.943996: I tensorflow/core/common_runtime/executor.cc:1197] [/device:CPU:0] (DEBUG INFO) Executor start aborting (this does not indicate an error and you can ignore this message): INVALID_ARGUMENT: You must feed a value for placeholder tensor 'Placeholder/_0' with dtype int32\n",
      "\t [[{{node Placeholder/_0}}]]\n"
     ]
    },
    {
     "name": "stdout",
     "output_type": "stream",
     "text": [
      "tf.Tensor([8 0 8 ... 6 1 2], shape=(3468,), dtype=int64)\n"
     ]
    },
    {
     "name": "stderr",
     "output_type": "stream",
     "text": [
      "2023-06-17 17:55:35.222195: W tensorflow/tsl/framework/cpu_allocator_impl.cc:83] Allocation of 1648742688 exceeds 10% of free system memory.\n"
     ]
    },
    {
     "name": "stdout",
     "output_type": "stream",
     "text": [
      "109/109 [==============================] - 2s 8ms/step\n"
     ]
    },
    {
     "data": {
      "image/png": "[encoded data removed]",
      "text/plain": [
       "<Figure size 800x600 with 2 Axes>"
      ]
     },
     "metadata": {},
     "output_type": "display_data"
    }
   ],
   "source": [
    "# Generate confusion matrix\n",
    "from sklearn.metrics import confusion_matrix\n",
    "\n",
    "# del trainBatches, testBatches\n",
    "\n",
    "# Assuming `test_labels` contains the true class labels for the test set\n",
    "test_labels = tf.argmax(tf.concat([data['labels'] for i, data in enumerate(testData)], 0), 1)\n",
    "print(test_labels)\n",
    "\n",
    "# Assuming the model is already trained and stored the predictions in `test_predictions`\n",
    "test_data_evaluated = tf.concat([data['features'] for i, data in enumerate(testData)], 0)\n",
    "test_predictions = model.predict(test_data_evaluated)\n",
    "test_predictions = np.argmax(test_predictions, axis=1)\n",
    "\n",
    "# Assuming `label_encoder` contains the label encoder used during training\n",
    "label_names = label_encoder.classes_\n",
    "confusion_mat = confusion_matrix(test_labels, test_predictions)\n",
    "\n",
    "# Plotting the confusion matrix\n",
    "plt.figure(figsize=(8, 6))\n",
    "sns.heatmap(confusion_mat, annot=True, fmt=\"d\", cmap=\"Blues\",\n",
    "            xticklabels=label_encoder.classes_, yticklabels=label_encoder.classes_)\n",
    "\n",
    "plt.xlabel(\"Predicted Labels\")\n",
    "plt.ylabel(\"True Labels\")\n",
    "plt.title(\"Confusion Matrix\")\n",
    "plt.show()"
   ]
  },
  {
   "cell_type": "code",
   "execution_count": null,
   "id": "ae561acd",
   "metadata": {},
   "outputs": [],
   "source": [
    "#saving the label encoder for later use\n",
    "with open(encoder_file, 'wb') as f:\n",
    "    pickle.dump(label_encoder, f)"
   ]
  },
  {
   "cell_type": "code",
   "execution_count": null,
   "id": "ebad3473",
   "metadata": {},
   "outputs": [],
   "source": [
    "# print(\"Verifying accuracy...\")\n",
    "# # verify accuracy of the train data\n",
    "# pred_train = model_train.predict(all_data_train)\n",
    "\n",
    "# accuracy = accuracy_score(pred_train, all_labels_encoded_train)\n",
    "# print(\"Accuracy of the train: %.4f%%\" % (accuracy * 100.0))\n",
    "\n",
    "# # verify accuracy of the validation data\n",
    "# pred_validation = model_train.predict(all_data_validation)\n",
    "\n",
    "# accuracy = accuracy_score(pred_validation, all_labels_encoded_validation)\n",
    "# print(\"Accuracy of the validation: %.4f%%\" % (accuracy * 100.0))\n",
    "\n",
    "# print(label_encoder.classes_)\n",
    "# confusion = sklearn.metrics.confusion_matrix(all_labels_encoded_validation, pred_validation)\n",
    "# print(confusion)\n",
    "\n",
    "# # Plotting the confusion matrix\n",
    "# plt.figure(figsize=(8, 6))\n",
    "# sns.heatmap(confusion, annot=True, fmt=\"d\", cmap=\"Blues\",\n",
    "#             xticklabels=label_encoder.classes_, yticklabels=label_encoder.classes_)\n",
    "\n",
    "# plt.title(\"Confusion Matrix\")\n",
    "# plt.xlabel(\"Predicted Label\")\n",
    "# plt.ylabel(\"True Label\")\n",
    "# plt.show()"
   ]
  },
  {
   "cell_type": "code",
   "execution_count": 17,
   "id": "aec8e130",
   "metadata": {},
   "outputs": [
    {
     "name": "stdout",
     "output_type": "stream",
     "text": [
      "Accuracy of the test: 97.2607%\n",
      "Precision: 0.9764\n",
      "Recall: 0.9663\n",
      "F1 Score: 0.9709\n"
     ]
    }
   ],
   "source": [
    "from sklearn.metrics import confusion_matrix\n",
    "from sklearn.metrics import precision_score, recall_score, f1_score\n",
    "\n",
    "test_labels = test_labels.numpy()\n",
    "accuracy = sum(test_predictions == test_labels) / float(len(test_predictions))\n",
    "print(\"Accuracy of the test: %.4f%%\" % (accuracy * 100.0))\n",
    "\n",
    "# Calculate precision\n",
    "precision = precision_score(test_labels, test_predictions, average='macro')\n",
    "\n",
    "# Calculate recall\n",
    "recall = recall_score(test_labels, test_predictions, average='macro')\n",
    "\n",
    "# Calculate F1 score\n",
    "f1 = f1_score(test_labels, test_predictions, average='macro')\n",
    "\n",
    "# Print the results\n",
    "print(\"Precision: {:.4f}\".format(precision))\n",
    "print(\"Recall: {:.4f}\".format(recall))\n",
    "print(\"F1 Score: {:.4f}\".format(f1))"
   ]
  },
  {
   "cell_type": "code",
   "execution_count": null,
   "id": "2ca14d45",
   "metadata": {},
   "outputs": [],
   "source": []
  }
 ],
 "metadata": {
  "kernelspec": {
   "display_name": "Python 3 (ipykernel)",
   "language": "python",
   "name": "python3"
  },
  "language_info": {
   "codemirror_mode": {
    "name": "ipython",
    "version": 3
   },
   "file_extension": ".py",
   "mimetype": "text/x-python",
   "name": "python",
   "nbconvert_exporter": "python",
   "pygments_lexer": "ipython3",
   "version": "3.10.10"
  }
 },
 "nbformat": 4,
 "nbformat_minor": 5
}
