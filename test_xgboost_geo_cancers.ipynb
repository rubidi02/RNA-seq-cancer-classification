{
 "cells": [
  {
   "cell_type": "code",
   "execution_count": 3,
   "metadata": {},
   "outputs": [],
   "source": [
    "import pandas as pd\n",
    "import numpy as np\n",
    "import os\n",
    "from mygene import MyGeneInfo\n",
    "from concurrent.futures import ThreadPoolExecutor\n",
    "from pyensembl import EnsemblRelease\n",
    "from sklearn.metrics import accuracy_score\n",
    "import time\n",
    "import pickle\n",
    "import sklearn\n",
    "import matplotlib.pyplot as plt\n",
    "import seaborn as sns\n",
    "\n",
    "AUGMENTATION = 80\n",
    "\n",
    "# Specify the path to the parent directory containing the folders to iterate through\n",
    "# data_geo_file_path = f\"data_geo_{CANCER_TYPE}_{AUGMENTATION}.pkl\"\n",
    "all_data_columns_file_path = \"./all_data_columns.pkl\"\n",
    "encoder_file = f\"./encoder_{AUGMENTATION}.pkl\"\n",
    "model_file_name = f\"xgboost-{AUGMENTATION}.model\""
   ]
  },
  {
   "cell_type": "code",
   "execution_count": 4,
   "metadata": {},
   "outputs": [],
   "source": [
    "# load GEO data from pickle file\n",
    "all_labels_file_path = \"all_labels_geo.pkl\"\n",
    "all_data_file_path = \"all_data_geo.pkl\"\n",
    "\n",
    "with open(all_labels_file_path, 'rb') as f:\n",
    "    all_labels_geo = pickle.load(f)\n",
    "\n",
    "with open(all_data_file_path, 'rb') as f:\n",
    "    all_data_geo = pickle.load(f)"
   ]
  },
  {
   "cell_type": "code",
   "execution_count": 5,
   "metadata": {},
   "outputs": [
    {
     "name": "stdout",
     "output_type": "stream",
     "text": [
      "['bladder' 'brain' 'breast' 'colon' 'kidney' 'liver' 'lung' 'pancreas'\n",
      " 'prostate' 'skin']\n",
      "index\n",
      "0       1\n",
      "1409    1\n",
      "1407    1\n",
      "1406    1\n",
      "1405    1\n",
      "       ..\n",
      "694     1\n",
      "693     1\n",
      "692     1\n",
      "691     1\n",
      "2097    1\n",
      "Name: count, Length: 2098, dtype: int64\n",
      "Label counts:\n",
      "Tissue\n",
      "colon       285\n",
      "liver       269\n",
      "breast      235\n",
      "kidney      224\n",
      "brain       214\n",
      "skin        210\n",
      "pancreas    197\n",
      "lung        187\n",
      "prostate    140\n",
      "bladder     137\n",
      "Name: count, dtype: int64\n",
      "        Tissue\n",
      "index         \n",
      "0      bladder\n",
      "1      bladder\n",
      "2      bladder\n",
      "3      bladder\n",
      "4      bladder\n",
      "...        ...\n",
      "2093     liver\n",
      "2094     liver\n",
      "2095     liver\n",
      "2096     liver\n",
      "2097     liver\n",
      "\n",
      "[2098 rows x 1 columns]\n",
      "Symbol  DDX11L1  WASH7P  MIR6859-1  MIR1302-2HG  MIR1302-2  FAM138A  OR4F5   \n",
      "index                                                                        \n",
      "0        0.9121   26.29     18.470       0.0000     0.0000  0.04445    0.0  \\\n",
      "1        3.5450   85.32     47.940       0.2054     0.4004  0.04889    0.0   \n",
      "2        0.4931   46.83     47.920       0.3786     0.3689  0.04506    0.0   \n",
      "3        3.0330   48.38     23.060       0.0000     0.0000  0.00000    0.0   \n",
      "4        5.3950   94.46     22.360       0.1570     0.3061  0.00000    0.0   \n",
      "...         ...     ...        ...          ...        ...      ...    ...   \n",
      "2093     0.4814   22.22     35.080       0.6335     0.8232  0.10050    0.0   \n",
      "2094     0.2836   28.86     36.740       0.0000     0.0000  0.00000    0.0   \n",
      "2095     0.3865   15.04      7.825       0.0000     0.0000  0.00000    0.0   \n",
      "2096     0.3919   36.38     28.570       0.0000     0.0000  0.45840    0.0   \n",
      "2097     0.0000   12.63     55.880       0.0000     0.0000  0.00000    0.0   \n",
      "\n",
      "Symbol  LOC100996442  LOC729737  DDX11L17  ...      ND4   TRNH   TRNS2  TRNL2   \n",
      "index                                      ...                                  \n",
      "0             0.3592     3.4870   0.03125  ...  21720.0  386.5  452.00  354.4  \\\n",
      "1             0.4064     7.1260   1.51300  ...  23000.0  266.6  321.20  240.4   \n",
      "2             0.2809     6.3900   0.06337  ...  18750.0  315.1  365.00  331.3   \n",
      "3             0.2657     0.7685   0.30940  ...  32330.0  213.9  234.60  220.8   \n",
      "4             0.4056     1.6740   0.28910  ...  23230.0  308.5  399.50  327.2   \n",
      "...              ...        ...       ...  ...      ...    ...     ...    ...   \n",
      "2093          8.1010    23.3700   1.69700  ...  20380.0  174.5  159.80  168.0   \n",
      "2094          9.2850    63.5000   0.68020  ...  17050.0  592.9  473.70  457.4   \n",
      "2095          9.0020    54.2600   2.05300  ...  24370.0  596.9  478.00  520.1   \n",
      "2096          3.9690    11.0700   0.64470  ...  18830.0  232.7   76.82  120.4   \n",
      "2097          3.0130     3.7210   0.09459  ...  19430.0  105.7   74.72  111.3   \n",
      "\n",
      "Symbol      ND5      ND6     TRNE     CYTB    TRNT    TRNP  \n",
      "index                                                       \n",
      "0        4118.0   6036.0   4641.0  11130.0  506.10  3074.0  \n",
      "1        1147.0   3598.0   3504.0  13040.0  173.30  1371.0  \n",
      "2        2379.0   4192.0   3358.0   7529.0  489.90  2437.0  \n",
      "3        2521.0   3193.0   1408.0  12900.0  160.50  1234.0  \n",
      "4        2444.0  13550.0  15090.0  15330.0  603.50  2437.0  \n",
      "...         ...      ...      ...      ...     ...     ...  \n",
      "2093     3664.0   4541.0    349.0   9915.0   86.06  1423.0  \n",
      "2094     7525.0   7435.0   1025.0   9039.0  108.80  2374.0  \n",
      "2095    10360.0   8932.0    933.1  12930.0  129.00  3075.0  \n",
      "2096     9032.0   7723.0    715.0  12540.0  200.10  3626.0  \n",
      "2097     6668.0   4584.0    645.5  13480.0   55.28  1285.0  \n",
      "\n",
      "[2098 rows x 39376 columns]\n",
      "Total geo columns: 39376\n",
      "Unique geo columns: 39374\n",
      "Total geo columns: 39374\n",
      "Unique geo columns: 39374\n"
     ]
    }
   ],
   "source": [
    "# load label encoder from pickle file\n",
    "with open(encoder_file, 'rb') as f:\n",
    "    label_encoder = pickle.load(f)\n",
    "class_list = label_encoder.classes_\n",
    "print(class_list)\n",
    "\n",
    "all_data_geo[\"index\"] = range(all_data_geo.shape[0])\n",
    "all_data_geo.set_index(\"index\", inplace=True)\n",
    "\n",
    "all_labels_geo[\"index\"] = range(all_labels_geo.shape[0])\n",
    "all_labels_geo.set_index(\"index\", inplace=True)\n",
    "\n",
    "# remove the labels which model was not trained on\n",
    "print(all_labels_geo[\"Tissue\"].index.value_counts())\n",
    "to_keep = all_labels_geo[\"Tissue\"].map(lambda x: x in class_list)\n",
    "\n",
    "labels_geo = all_labels_geo.loc[to_keep]\n",
    "tpm_geo = all_data_geo.loc[to_keep]\n",
    "\n",
    "# Get the count of samples for each unique label\n",
    "label_counts = labels_geo[\"Tissue\"].value_counts()\n",
    "\n",
    "# Print the count of samples for each unique label\n",
    "print(\"Label counts:\")\n",
    "print(label_counts)\n",
    "\n",
    "print(labels_geo)\n",
    "print(tpm_geo)\n",
    "\n",
    "print(f'Total geo columns: {len(tpm_geo.columns)}')\n",
    "print(f'Unique geo columns: {len(set(tpm_geo.columns))}')\n",
    "\n",
    "# merging the columns with the same symbol name\n",
    "data_geo = tpm_geo.groupby(tpm_geo.columns, axis=1).sum()\n",
    "print(f'Total geo columns: {len(data_geo.columns)}')\n",
    "\n",
    "unique_columns = len(set(data_geo.columns))\n",
    "print(f'Unique geo columns: {unique_columns}')"
   ]
  },
  {
   "cell_type": "code",
   "execution_count": 6,
   "metadata": {},
   "outputs": [],
   "source": [
    "#open the list of genes from tcga\n",
    "with open(all_data_columns_file_path, 'rb') as all_data_columns_pckl:\n",
    "    all_data_columns = pickle.load(all_data_columns_pckl)"
   ]
  },
  {
   "cell_type": "code",
   "execution_count": 7,
   "metadata": {},
   "outputs": [
    {
     "name": "stdout",
     "output_type": "stream",
     "text": [
      "length data_geo.columns:  39374\n",
      "length all_data_columns:  59427\n",
      "length columns_to_drop:  12302\n",
      "data_geo_filtered shape:  (2098, 27072)\n",
      "data_geo_test shape:  (2098, 59427)\n"
     ]
    }
   ],
   "source": [
    "print(\"length data_geo.columns: \", len(data_geo.columns))\n",
    "print(\"length all_data_columns: \", len(all_data_columns))\n",
    "\n",
    "# Delete all columns from data_geo dataframe that are not present in all_data_columns list\n",
    "columns_to_drop = [col for col in data_geo.columns if col not in all_data_columns]\n",
    "print(\"length columns_to_drop: \", len(columns_to_drop))\n",
    "\n",
    "data_geo_filtered = data_geo.drop(columns=columns_to_drop)\n",
    "print(\"data_geo_filtered shape: \" , data_geo_filtered.shape)\n",
    "      \n",
    "# For each column name in all_data_columns list add a column of zeros to data_geo_filtered dataframe \n",
    "# if the column with that name does not exist, otherwise ignore it\n",
    "\n",
    "# Create a DataFrame with zeros for missing columns\n",
    "zeros_df = pd.DataFrame(0, index=data_geo_filtered.index, columns=all_data_columns)\n",
    "\n",
    "# Concatenate data_geo_filtered and zeros_df\n",
    "data_geo_filtered = pd.concat([data_geo_filtered, zeros_df], axis=1)\n",
    "\n",
    "# Remove duplicate columns\n",
    "data_geo_filtered = data_geo_filtered.loc[:, ~data_geo_filtered.columns.duplicated()]\n",
    "\n",
    "\n",
    "# Construct validation dataset with proper column ordering defined in all_data_columns\n",
    "data_geo_test = data_geo_filtered[all_data_columns]\n",
    "print(\"data_geo_test shape: \", data_geo_test.shape)"
   ]
  },
  {
   "attachments": {},
   "cell_type": "markdown",
   "metadata": {},
   "source": [
    "# Validate data geo on trained tcga classifier"
   ]
  },
  {
   "cell_type": "code",
   "execution_count": 8,
   "metadata": {},
   "outputs": [],
   "source": [
    "# load the xgboost model\n",
    "with open(model_file_name, 'rb') as f:\n",
    "    model = pickle.load(f)"
   ]
  },
  {
   "cell_type": "code",
   "execution_count": 9,
   "metadata": {},
   "outputs": [
    {
     "name": "stdout",
     "output_type": "stream",
     "text": [
      "[0 0 0 ... 5 5 5]\n"
     ]
    }
   ],
   "source": [
    "# encoding the test data with the same label encoder used in training\n",
    "all_labels_encoded = label_encoder.transform(np.ravel(labels_geo))\n",
    "\n",
    "print(all_labels_encoded)\n",
    "\n",
    "# sort the data_geo_test columns\n",
    "data_geo_test = data_geo_test[sorted(data_geo_test.columns)]"
   ]
  },
  {
   "cell_type": "code",
   "execution_count": 10,
   "metadata": {},
   "outputs": [
    {
     "name": "stdout",
     "output_type": "stream",
     "text": [
      "Verifying accuracy...\n",
      "Accuracy of the test: 83.9371%\n",
      "['bladder' 'brain' 'breast' 'colon' 'kidney' 'liver' 'lung' 'pancreas'\n",
      " 'prostate' 'skin']\n",
      "[[109   0   1   3   0   0  11   0   2  11]\n",
      " [  1 171   5   0   4   1   2  21   0   9]\n",
      " [  0   0 235   0   0   0   0   0   0   0]\n",
      " [  9   1   4 239   3   0   8   8   1  12]\n",
      " [ 18   0   8   9 126   3  25   0   0  35]\n",
      " [  3   0   2   0   1 243   5   6   0   9]\n",
      " [  0   3  11   1   4   0 158   5   0   5]\n",
      " [  2   0   2   4   0   0   4 185   0   0]\n",
      " [  0   0   1   0   0   0   1   0 138   0]\n",
      " [  5   0  32   7   3   0   6   0   0 157]]\n"
     ]
    },
    {
     "data": {
      "image/png": "[encoded data removed]",
      "text/plain": [
       "<Figure size 800x600 with 2 Axes>"
      ]
     },
     "metadata": {},
     "output_type": "display_data"
    }
   ],
   "source": [
    "print(\"Verifying accuracy...\")\n",
    "# verify accuracy of the test data\n",
    "pred_test = model.predict(data_geo_test)\n",
    "\n",
    "accuracy = sum(pred_test == all_labels_encoded) / float(len(pred_test))\n",
    "\n",
    "print(\"Accuracy of the test: %.4f%%\" % (accuracy * 100.0))\n",
    "\n",
    "print(label_encoder.classes_)\n",
    "confusion = sklearn.metrics.confusion_matrix(all_labels_encoded, pred_test)\n",
    "print(confusion)\n",
    "\n",
    "# Plotting the confusion matrix\n",
    "plt.figure(figsize=(8, 6))\n",
    "sns.heatmap(confusion, annot=True, fmt=\"d\", cmap=\"Blues\",\n",
    "            xticklabels=label_encoder.classes_, yticklabels=label_encoder.classes_)\n",
    "\n",
    "plt.title(\"Confusion Matrix\")\n",
    "plt.xlabel(\"Predicted Label\")\n",
    "plt.ylabel(\"True Label\")\n",
    "plt.show()"
   ]
  },
  {
   "cell_type": "code",
   "execution_count": 11,
   "metadata": {},
   "outputs": [
    {
     "name": "stdout",
     "output_type": "stream",
     "text": [
      "Precision: 0.8464\n",
      "Recall: 0.8416\n",
      "F1 Score: 0.8364\n"
     ]
    }
   ],
   "source": [
    "from sklearn.metrics import confusion_matrix\n",
    "from sklearn.metrics import precision_score, recall_score, f1_score\n",
    "\n",
    "# Assuming you have already calculated the confusion matrix\n",
    "confusion = confusion_matrix(all_labels_encoded, pred_test)\n",
    "\n",
    "# Calculate precision\n",
    "precision = precision_score(all_labels_encoded, pred_test, average='macro')\n",
    "\n",
    "# Calculate recall\n",
    "recall = recall_score(all_labels_encoded, pred_test, average='macro')\n",
    "\n",
    "# Calculate F1 score\n",
    "f1 = f1_score(all_labels_encoded, pred_test, average='macro')\n",
    "\n",
    "# Print the results\n",
    "print(\"Precision: {:.4f}\".format(precision))\n",
    "print(\"Recall: {:.4f}\".format(recall))\n",
    "print(\"F1 Score: {:.4f}\".format(f1))\n"
   ]
  },
  {
   "cell_type": "code",
   "execution_count": 29,
   "metadata": {},
   "outputs": [
    {
     "name": "stdout",
     "output_type": "stream",
     "text": [
      "Verifying accuracy for each cancer type...\n",
      "Accuracy of class bladder: \t79.56%\n",
      "Accuracy of class brain: \t79.91%\n",
      "Accuracy of class breast: \t100.00%\n",
      "Accuracy of class colon: \t83.86%\n",
      "Accuracy of class kidney: \t56.25%\n",
      "Accuracy of class liver: \t90.33%\n",
      "Accuracy of class lung: \t84.49%\n",
      "Accuracy of class pancreas: \t93.91%\n",
      "Accuracy of class prostate: \t98.57%\n",
      "Accuracy of class skin: \t74.76%\n"
     ]
    }
   ],
   "source": [
    "print(\"Verifying accuracy for each cancer type...\")\n",
    "# verify accuracy of the test data\n",
    "\n",
    "pred_test = model.predict(data_geo_test)\n",
    "\n",
    "accuracy = sum(pred_test == all_labels_encoded) / float(len(pred_test))\n",
    "\n",
    "for i in range(len(class_list)):\n",
    "    idx = all_labels_encoded == i\n",
    "    pred_test_class = pred_test[idx]\n",
    "    all_labels_class = all_labels_encoded[idx]\n",
    "\n",
    "    accuracy_class = sum(pred_test_class == all_labels_class) / float(len(pred_test_class))\n",
    "    print(f'Accuracy of class {class_list[i]}: \\t{accuracy_class*100:.2f}%')"
   ]
  }
 ],
 "metadata": {
  "kernelspec": {
   "display_name": ".venv",
   "language": "python",
   "name": "python3"
  },
  "language_info": {
   "codemirror_mode": {
    "name": "ipython",
    "version": 3
   },
   "file_extension": ".py",
   "mimetype": "text/x-python",
   "name": "python",
   "nbconvert_exporter": "python",
   "pygments_lexer": "ipython3",
   "version": "3.10.6"
  },
  "orig_nbformat": 4
 },
 "nbformat": 4,
 "nbformat_minor": 2
}
